{
  "nbformat": 4,
  "nbformat_minor": 0,
  "metadata": {
    "kernelspec": {
      "display_name": "Python 3",
      "language": "python",
      "name": "python3"
    },
    "language_info": {
      "codemirror_mode": {
        "name": "ipython",
        "version": 3
      },
      "file_extension": ".py",
      "mimetype": "text/x-python",
      "name": "python",
      "nbconvert_exporter": "python",
      "pygments_lexer": "ipython3",
      "version": "3.6.8"
    },
    "colab": {
      "name": "brother.ipynb",
      "provenance": []
    }
  },
  "cells": [
    {
      "cell_type": "markdown",
      "metadata": {
        "id": "sgoQ0Y5rb5IU"
      },
      "source": [
        "### Necessary Imports:"
      ]
    },
    {
      "cell_type": "code",
      "metadata": {
        "id": "wrMbMeUmb5IY"
      },
      "source": [
        "import pandas as pd\n",
        "import numpy as np\n",
        "import matplotlib.pyplot as plt\n",
        "from sklearn.preprocessing import MinMaxScaler\n",
        "\n",
        "import torch\n",
        "import torch.nn as nn \n",
        "\n",
        "from sklearn.model_selection import train_test_split\n",
        "\n",
        "from sklearn.metrics import mean_squared_error, r2_score\n",
        "from math import sqrt\n",
        "import math\n",
        "\n",
        "from sklearn.linear_model import LinearRegression\n",
        "\n",
        "from torch import save, load, no_grad, LongTensor\n",
        "from torch.utils.data import Dataset\n",
        "\n",
        "import argparse\n",
        "from numpy import arange, random\n",
        "import torch.optim as optim\n",
        "from torch.utils.data import DataLoader, random_split"
      ],
      "execution_count": null,
      "outputs": []
    },
    {
      "cell_type": "code",
      "metadata": {
        "id": "D0oWvYbDb5Ia"
      },
      "source": [
        ""
      ],
      "execution_count": null,
      "outputs": []
    },
    {
      "cell_type": "code",
      "metadata": {
        "id": "lV2yEMhkb5Ia"
      },
      "source": [
        "test_df = pd.read_csv(\"test_FD004.csv\")\n",
        "train_df = pd.read_csv(\"train_FD004.csv\")"
      ],
      "execution_count": null,
      "outputs": []
    },
    {
      "cell_type": "code",
      "metadata": {
        "id": "lCV5XMKNb5Ia"
      },
      "source": [
        ""
      ],
      "execution_count": null,
      "outputs": []
    },
    {
      "cell_type": "code",
      "metadata": {
        "id": "T8PlNniVb5Ib",
        "outputId": "bf37d4a8-5f78-46cb-fe00-56c4297925da"
      },
      "source": [
        "train_df.info()"
      ],
      "execution_count": null,
      "outputs": [
        {
          "output_type": "stream",
          "text": [
            "<class 'pandas.core.frame.DataFrame'>\n",
            "RangeIndex: 61249 entries, 0 to 61248\n",
            "Data columns (total 26 columns):\n",
            "Unit        61249 non-null int64\n",
            "Time        61249 non-null int64\n",
            "Op1         61249 non-null float64\n",
            "Op2         61249 non-null float64\n",
            "Op3         61249 non-null int64\n",
            "Sensor1     61249 non-null float64\n",
            "Sensor2     61249 non-null float64\n",
            "Sensor3     61249 non-null float64\n",
            "Sensor4     61249 non-null float64\n",
            "Sensor5     61249 non-null float64\n",
            "Sensor6     61249 non-null float64\n",
            "Sensor7     61249 non-null float64\n",
            "Sensor8     61249 non-null float64\n",
            "Sensor9     61249 non-null float64\n",
            "Sensor10    61249 non-null float64\n",
            "Sensor11    61249 non-null float64\n",
            "Sensor12    61249 non-null float64\n",
            "Sensor13    61249 non-null float64\n",
            "Sensor14    61249 non-null float64\n",
            "Sensor15    61249 non-null float64\n",
            "Sensor16    61249 non-null float64\n",
            "Sensor17    61249 non-null int64\n",
            "Sensor18    61249 non-null int64\n",
            "Sensor19    61249 non-null float64\n",
            "Sensor20    61249 non-null float64\n",
            "Sensor21    61249 non-null float64\n",
            "dtypes: float64(21), int64(5)\n",
            "memory usage: 12.1 MB\n"
          ],
          "name": "stdout"
        }
      ]
    },
    {
      "cell_type": "code",
      "metadata": {
        "id": "-PjL1jhBb5Ic",
        "outputId": "c822270e-2d7d-451b-9098-0d466b0818fb"
      },
      "source": [
        "test_df.info()"
      ],
      "execution_count": null,
      "outputs": [
        {
          "output_type": "stream",
          "text": [
            "<class 'pandas.core.frame.DataFrame'>\n",
            "RangeIndex: 41214 entries, 0 to 41213\n",
            "Data columns (total 26 columns):\n",
            "Unit        41214 non-null int64\n",
            "Time        41214 non-null int64\n",
            "Op1         41214 non-null float64\n",
            "Op2         41214 non-null float64\n",
            "Op3         41214 non-null int64\n",
            "Sensor1     41214 non-null float64\n",
            "Sensor2     41214 non-null float64\n",
            "Sensor3     41214 non-null float64\n",
            "Sensor4     41214 non-null float64\n",
            "Sensor5     41214 non-null float64\n",
            "Sensor6     41214 non-null float64\n",
            "Sensor7     41214 non-null float64\n",
            "Sensor8     41214 non-null float64\n",
            "Sensor9     41214 non-null float64\n",
            "Sensor10    41214 non-null float64\n",
            "Sensor11    41214 non-null float64\n",
            "Sensor12    41214 non-null float64\n",
            "Sensor13    41214 non-null float64\n",
            "Sensor14    41214 non-null float64\n",
            "Sensor15    41214 non-null float64\n",
            "Sensor16    41214 non-null float64\n",
            "Sensor17    41214 non-null int64\n",
            "Sensor18    41214 non-null int64\n",
            "Sensor19    41214 non-null float64\n",
            "Sensor20    41214 non-null float64\n",
            "Sensor21    41214 non-null float64\n",
            "dtypes: float64(21), int64(5)\n",
            "memory usage: 8.2 MB\n"
          ],
          "name": "stdout"
        }
      ]
    },
    {
      "cell_type": "code",
      "metadata": {
        "id": "i_nrwk2Zb5Ic"
      },
      "source": [
        ""
      ],
      "execution_count": null,
      "outputs": []
    },
    {
      "cell_type": "markdown",
      "metadata": {
        "id": "DxPxa8fRb5Id"
      },
      "source": [
        "### Maximum Cycles for every machine unit:"
      ]
    },
    {
      "cell_type": "code",
      "metadata": {
        "id": "j-jKRIK6b5Id",
        "outputId": "abcdcfd6-6152-4f61-800c-6a643f4ebaa4"
      },
      "source": [
        "# Extra max cycles for every machine unit:\n",
        "max_cycles_train = train_df.groupby(['Unit'], sort=False)['Time'].max().reset_index().rename(columns={'Time':'MaxCycleID'})\n",
        "max_cycles_train.head()"
      ],
      "execution_count": null,
      "outputs": [
        {
          "output_type": "execute_result",
          "data": {
            "text/html": [
              "<div>\n",
              "<style scoped>\n",
              "    .dataframe tbody tr th:only-of-type {\n",
              "        vertical-align: middle;\n",
              "    }\n",
              "\n",
              "    .dataframe tbody tr th {\n",
              "        vertical-align: top;\n",
              "    }\n",
              "\n",
              "    .dataframe thead th {\n",
              "        text-align: right;\n",
              "    }\n",
              "</style>\n",
              "<table border=\"1\" class=\"dataframe\">\n",
              "  <thead>\n",
              "    <tr style=\"text-align: right;\">\n",
              "      <th></th>\n",
              "      <th>Unit</th>\n",
              "      <th>MaxCycleID</th>\n",
              "    </tr>\n",
              "  </thead>\n",
              "  <tbody>\n",
              "    <tr>\n",
              "      <th>0</th>\n",
              "      <td>1</td>\n",
              "      <td>321</td>\n",
              "    </tr>\n",
              "    <tr>\n",
              "      <th>1</th>\n",
              "      <td>2</td>\n",
              "      <td>299</td>\n",
              "    </tr>\n",
              "    <tr>\n",
              "      <th>2</th>\n",
              "      <td>3</td>\n",
              "      <td>307</td>\n",
              "    </tr>\n",
              "    <tr>\n",
              "      <th>3</th>\n",
              "      <td>4</td>\n",
              "      <td>274</td>\n",
              "    </tr>\n",
              "    <tr>\n",
              "      <th>4</th>\n",
              "      <td>5</td>\n",
              "      <td>193</td>\n",
              "    </tr>\n",
              "  </tbody>\n",
              "</table>\n",
              "</div>"
            ],
            "text/plain": [
              "   Unit  MaxCycleID\n",
              "0     1         321\n",
              "1     2         299\n",
              "2     3         307\n",
              "3     4         274\n",
              "4     5         193"
            ]
          },
          "metadata": {
            "tags": []
          },
          "execution_count": 5
        }
      ]
    },
    {
      "cell_type": "code",
      "metadata": {
        "id": "dHE17co5b5Ie",
        "outputId": "283a8c39-2b75-4538-bca1-f340b546f0a1"
      },
      "source": [
        "# Repeat for test data:\n",
        "max_cycles_test = test_df.groupby(['Unit'], sort=False)['Time'].max().reset_index().rename(columns={'Time':'MaxCycleID'})\n",
        "max_cycles_test.head()"
      ],
      "execution_count": null,
      "outputs": [
        {
          "output_type": "execute_result",
          "data": {
            "text/html": [
              "<div>\n",
              "<style scoped>\n",
              "    .dataframe tbody tr th:only-of-type {\n",
              "        vertical-align: middle;\n",
              "    }\n",
              "\n",
              "    .dataframe tbody tr th {\n",
              "        vertical-align: top;\n",
              "    }\n",
              "\n",
              "    .dataframe thead th {\n",
              "        text-align: right;\n",
              "    }\n",
              "</style>\n",
              "<table border=\"1\" class=\"dataframe\">\n",
              "  <thead>\n",
              "    <tr style=\"text-align: right;\">\n",
              "      <th></th>\n",
              "      <th>Unit</th>\n",
              "      <th>MaxCycleID</th>\n",
              "    </tr>\n",
              "  </thead>\n",
              "  <tbody>\n",
              "    <tr>\n",
              "      <th>0</th>\n",
              "      <td>1</td>\n",
              "      <td>230</td>\n",
              "    </tr>\n",
              "    <tr>\n",
              "      <th>1</th>\n",
              "      <td>2</td>\n",
              "      <td>153</td>\n",
              "    </tr>\n",
              "    <tr>\n",
              "      <th>2</th>\n",
              "      <td>3</td>\n",
              "      <td>141</td>\n",
              "    </tr>\n",
              "    <tr>\n",
              "      <th>3</th>\n",
              "      <td>4</td>\n",
              "      <td>208</td>\n",
              "    </tr>\n",
              "    <tr>\n",
              "      <th>4</th>\n",
              "      <td>5</td>\n",
              "      <td>51</td>\n",
              "    </tr>\n",
              "  </tbody>\n",
              "</table>\n",
              "</div>"
            ],
            "text/plain": [
              "   Unit  MaxCycleID\n",
              "0     1         230\n",
              "1     2         153\n",
              "2     3         141\n",
              "3     4         208\n",
              "4     5          51"
            ]
          },
          "metadata": {
            "tags": []
          },
          "execution_count": 6
        }
      ]
    },
    {
      "cell_type": "code",
      "metadata": {
        "id": "r-y3V0l3b5Ie"
      },
      "source": [
        ""
      ],
      "execution_count": null,
      "outputs": []
    },
    {
      "cell_type": "code",
      "metadata": {
        "id": "g1SJ3itUb5If"
      },
      "source": [
        ""
      ],
      "execution_count": null,
      "outputs": []
    },
    {
      "cell_type": "code",
      "metadata": {
        "id": "EQvFb2ldb5If",
        "outputId": "83127b17-42bd-4421-f56b-76e84e2bc069"
      },
      "source": [
        "train_df = pd.merge(train_df, max_cycles_train, how='inner', on='Unit')\n",
        "train_df.head(1)"
      ],
      "execution_count": null,
      "outputs": [
        {
          "output_type": "execute_result",
          "data": {
            "text/html": [
              "<div>\n",
              "<style scoped>\n",
              "    .dataframe tbody tr th:only-of-type {\n",
              "        vertical-align: middle;\n",
              "    }\n",
              "\n",
              "    .dataframe tbody tr th {\n",
              "        vertical-align: top;\n",
              "    }\n",
              "\n",
              "    .dataframe thead th {\n",
              "        text-align: right;\n",
              "    }\n",
              "</style>\n",
              "<table border=\"1\" class=\"dataframe\">\n",
              "  <thead>\n",
              "    <tr style=\"text-align: right;\">\n",
              "      <th></th>\n",
              "      <th>Unit</th>\n",
              "      <th>Time</th>\n",
              "      <th>Op1</th>\n",
              "      <th>Op2</th>\n",
              "      <th>Op3</th>\n",
              "      <th>Sensor1</th>\n",
              "      <th>Sensor2</th>\n",
              "      <th>Sensor3</th>\n",
              "      <th>Sensor4</th>\n",
              "      <th>Sensor5</th>\n",
              "      <th>...</th>\n",
              "      <th>Sensor13</th>\n",
              "      <th>Sensor14</th>\n",
              "      <th>Sensor15</th>\n",
              "      <th>Sensor16</th>\n",
              "      <th>Sensor17</th>\n",
              "      <th>Sensor18</th>\n",
              "      <th>Sensor19</th>\n",
              "      <th>Sensor20</th>\n",
              "      <th>Sensor21</th>\n",
              "      <th>MaxCycleID</th>\n",
              "    </tr>\n",
              "  </thead>\n",
              "  <tbody>\n",
              "    <tr>\n",
              "      <th>0</th>\n",
              "      <td>1</td>\n",
              "      <td>1</td>\n",
              "      <td>42.0049</td>\n",
              "      <td>0.84</td>\n",
              "      <td>100</td>\n",
              "      <td>445.0</td>\n",
              "      <td>549.68</td>\n",
              "      <td>1343.43</td>\n",
              "      <td>1112.93</td>\n",
              "      <td>3.91</td>\n",
              "      <td>...</td>\n",
              "      <td>2387.99</td>\n",
              "      <td>8074.83</td>\n",
              "      <td>9.3335</td>\n",
              "      <td>0.02</td>\n",
              "      <td>330</td>\n",
              "      <td>2212</td>\n",
              "      <td>100.0</td>\n",
              "      <td>10.62</td>\n",
              "      <td>6.367</td>\n",
              "      <td>321</td>\n",
              "    </tr>\n",
              "  </tbody>\n",
              "</table>\n",
              "<p>1 rows × 27 columns</p>\n",
              "</div>"
            ],
            "text/plain": [
              "   Unit  Time      Op1   Op2  Op3  Sensor1  Sensor2  Sensor3  Sensor4  \\\n",
              "0     1     1  42.0049  0.84  100    445.0   549.68  1343.43  1112.93   \n",
              "\n",
              "   Sensor5  ...  Sensor13  Sensor14  Sensor15  Sensor16  Sensor17  Sensor18  \\\n",
              "0     3.91  ...   2387.99   8074.83    9.3335      0.02       330      2212   \n",
              "\n",
              "   Sensor19  Sensor20  Sensor21  MaxCycleID  \n",
              "0     100.0     10.62     6.367         321  \n",
              "\n",
              "[1 rows x 27 columns]"
            ]
          },
          "metadata": {
            "tags": []
          },
          "execution_count": 7
        }
      ]
    },
    {
      "cell_type": "code",
      "metadata": {
        "id": "H6M-Gk43b5Ig",
        "outputId": "2eb1b6c4-c9d9-43ef-8359-16e4960871af"
      },
      "source": [
        "# Repeat for test data\n",
        "test_df = pd.merge(test_df, max_cycles_test, how='inner', on='Unit')\n",
        "test_df.head(1)"
      ],
      "execution_count": null,
      "outputs": [
        {
          "output_type": "execute_result",
          "data": {
            "text/html": [
              "<div>\n",
              "<style scoped>\n",
              "    .dataframe tbody tr th:only-of-type {\n",
              "        vertical-align: middle;\n",
              "    }\n",
              "\n",
              "    .dataframe tbody tr th {\n",
              "        vertical-align: top;\n",
              "    }\n",
              "\n",
              "    .dataframe thead th {\n",
              "        text-align: right;\n",
              "    }\n",
              "</style>\n",
              "<table border=\"1\" class=\"dataframe\">\n",
              "  <thead>\n",
              "    <tr style=\"text-align: right;\">\n",
              "      <th></th>\n",
              "      <th>Unit</th>\n",
              "      <th>Time</th>\n",
              "      <th>Op1</th>\n",
              "      <th>Op2</th>\n",
              "      <th>Op3</th>\n",
              "      <th>Sensor1</th>\n",
              "      <th>Sensor2</th>\n",
              "      <th>Sensor3</th>\n",
              "      <th>Sensor4</th>\n",
              "      <th>Sensor5</th>\n",
              "      <th>...</th>\n",
              "      <th>Sensor13</th>\n",
              "      <th>Sensor14</th>\n",
              "      <th>Sensor15</th>\n",
              "      <th>Sensor16</th>\n",
              "      <th>Sensor17</th>\n",
              "      <th>Sensor18</th>\n",
              "      <th>Sensor19</th>\n",
              "      <th>Sensor20</th>\n",
              "      <th>Sensor21</th>\n",
              "      <th>MaxCycleID</th>\n",
              "    </tr>\n",
              "  </thead>\n",
              "  <tbody>\n",
              "    <tr>\n",
              "      <th>0</th>\n",
              "      <td>1</td>\n",
              "      <td>1</td>\n",
              "      <td>20.0072</td>\n",
              "      <td>0.7</td>\n",
              "      <td>100</td>\n",
              "      <td>491.19</td>\n",
              "      <td>606.67</td>\n",
              "      <td>1481.04</td>\n",
              "      <td>1227.81</td>\n",
              "      <td>9.35</td>\n",
              "      <td>...</td>\n",
              "      <td>2387.78</td>\n",
              "      <td>8048.98</td>\n",
              "      <td>9.2229</td>\n",
              "      <td>0.02</td>\n",
              "      <td>362</td>\n",
              "      <td>2324</td>\n",
              "      <td>100.0</td>\n",
              "      <td>24.31</td>\n",
              "      <td>14.7007</td>\n",
              "      <td>230</td>\n",
              "    </tr>\n",
              "  </tbody>\n",
              "</table>\n",
              "<p>1 rows × 27 columns</p>\n",
              "</div>"
            ],
            "text/plain": [
              "   Unit  Time      Op1  Op2  Op3  Sensor1  Sensor2  Sensor3  Sensor4  Sensor5  \\\n",
              "0     1     1  20.0072  0.7  100   491.19   606.67  1481.04  1227.81     9.35   \n",
              "\n",
              "   ...  Sensor13  Sensor14  Sensor15  Sensor16  Sensor17  Sensor18  Sensor19  \\\n",
              "0  ...   2387.78   8048.98    9.2229      0.02       362      2324     100.0   \n",
              "\n",
              "   Sensor20  Sensor21  MaxCycleID  \n",
              "0     24.31   14.7007         230  \n",
              "\n",
              "[1 rows x 27 columns]"
            ]
          },
          "metadata": {
            "tags": []
          },
          "execution_count": 8
        }
      ]
    },
    {
      "cell_type": "code",
      "metadata": {
        "id": "bfZz7AdWb5Ih"
      },
      "source": [
        ""
      ],
      "execution_count": null,
      "outputs": []
    },
    {
      "cell_type": "code",
      "metadata": {
        "id": "tFsOYiICb5Ih"
      },
      "source": [
        ""
      ],
      "execution_count": null,
      "outputs": []
    },
    {
      "cell_type": "code",
      "metadata": {
        "id": "nLEQ4tPXb5Ii",
        "outputId": "e79b9ffd-94a2-4d2a-a5a4-058c436b9d10"
      },
      "source": [
        "# RUL for Train data\n",
        "train_df['RUL'] = train_df['MaxCycleID'] - train_df['Time']\n",
        "train_df.head(1)"
      ],
      "execution_count": null,
      "outputs": [
        {
          "output_type": "execute_result",
          "data": {
            "text/html": [
              "<div>\n",
              "<style scoped>\n",
              "    .dataframe tbody tr th:only-of-type {\n",
              "        vertical-align: middle;\n",
              "    }\n",
              "\n",
              "    .dataframe tbody tr th {\n",
              "        vertical-align: top;\n",
              "    }\n",
              "\n",
              "    .dataframe thead th {\n",
              "        text-align: right;\n",
              "    }\n",
              "</style>\n",
              "<table border=\"1\" class=\"dataframe\">\n",
              "  <thead>\n",
              "    <tr style=\"text-align: right;\">\n",
              "      <th></th>\n",
              "      <th>Unit</th>\n",
              "      <th>Time</th>\n",
              "      <th>Op1</th>\n",
              "      <th>Op2</th>\n",
              "      <th>Op3</th>\n",
              "      <th>Sensor1</th>\n",
              "      <th>Sensor2</th>\n",
              "      <th>Sensor3</th>\n",
              "      <th>Sensor4</th>\n",
              "      <th>Sensor5</th>\n",
              "      <th>...</th>\n",
              "      <th>Sensor14</th>\n",
              "      <th>Sensor15</th>\n",
              "      <th>Sensor16</th>\n",
              "      <th>Sensor17</th>\n",
              "      <th>Sensor18</th>\n",
              "      <th>Sensor19</th>\n",
              "      <th>Sensor20</th>\n",
              "      <th>Sensor21</th>\n",
              "      <th>MaxCycleID</th>\n",
              "      <th>RUL</th>\n",
              "    </tr>\n",
              "  </thead>\n",
              "  <tbody>\n",
              "    <tr>\n",
              "      <th>0</th>\n",
              "      <td>1</td>\n",
              "      <td>1</td>\n",
              "      <td>42.0049</td>\n",
              "      <td>0.84</td>\n",
              "      <td>100</td>\n",
              "      <td>445.0</td>\n",
              "      <td>549.68</td>\n",
              "      <td>1343.43</td>\n",
              "      <td>1112.93</td>\n",
              "      <td>3.91</td>\n",
              "      <td>...</td>\n",
              "      <td>8074.83</td>\n",
              "      <td>9.3335</td>\n",
              "      <td>0.02</td>\n",
              "      <td>330</td>\n",
              "      <td>2212</td>\n",
              "      <td>100.0</td>\n",
              "      <td>10.62</td>\n",
              "      <td>6.367</td>\n",
              "      <td>321</td>\n",
              "      <td>320</td>\n",
              "    </tr>\n",
              "  </tbody>\n",
              "</table>\n",
              "<p>1 rows × 28 columns</p>\n",
              "</div>"
            ],
            "text/plain": [
              "   Unit  Time      Op1   Op2  Op3  Sensor1  Sensor2  Sensor3  Sensor4  \\\n",
              "0     1     1  42.0049  0.84  100    445.0   549.68  1343.43  1112.93   \n",
              "\n",
              "   Sensor5  ...  Sensor14  Sensor15  Sensor16  Sensor17  Sensor18  Sensor19  \\\n",
              "0     3.91  ...   8074.83    9.3335      0.02       330      2212     100.0   \n",
              "\n",
              "   Sensor20  Sensor21  MaxCycleID  RUL  \n",
              "0     10.62     6.367         321  320  \n",
              "\n",
              "[1 rows x 28 columns]"
            ]
          },
          "metadata": {
            "tags": []
          },
          "execution_count": 9
        }
      ]
    },
    {
      "cell_type": "code",
      "metadata": {
        "id": "aD5sKWleb5Ii",
        "outputId": "17afb14e-dd4a-465e-9db6-3b31527f0c16"
      },
      "source": [
        "# RUL for Test data\n",
        "test_df['RUL'] = test_df['MaxCycleID'] - test_df['Time']\n",
        "test_df.head(1)"
      ],
      "execution_count": null,
      "outputs": [
        {
          "output_type": "execute_result",
          "data": {
            "text/html": [
              "<div>\n",
              "<style scoped>\n",
              "    .dataframe tbody tr th:only-of-type {\n",
              "        vertical-align: middle;\n",
              "    }\n",
              "\n",
              "    .dataframe tbody tr th {\n",
              "        vertical-align: top;\n",
              "    }\n",
              "\n",
              "    .dataframe thead th {\n",
              "        text-align: right;\n",
              "    }\n",
              "</style>\n",
              "<table border=\"1\" class=\"dataframe\">\n",
              "  <thead>\n",
              "    <tr style=\"text-align: right;\">\n",
              "      <th></th>\n",
              "      <th>Unit</th>\n",
              "      <th>Time</th>\n",
              "      <th>Op1</th>\n",
              "      <th>Op2</th>\n",
              "      <th>Op3</th>\n",
              "      <th>Sensor1</th>\n",
              "      <th>Sensor2</th>\n",
              "      <th>Sensor3</th>\n",
              "      <th>Sensor4</th>\n",
              "      <th>Sensor5</th>\n",
              "      <th>...</th>\n",
              "      <th>Sensor14</th>\n",
              "      <th>Sensor15</th>\n",
              "      <th>Sensor16</th>\n",
              "      <th>Sensor17</th>\n",
              "      <th>Sensor18</th>\n",
              "      <th>Sensor19</th>\n",
              "      <th>Sensor20</th>\n",
              "      <th>Sensor21</th>\n",
              "      <th>MaxCycleID</th>\n",
              "      <th>RUL</th>\n",
              "    </tr>\n",
              "  </thead>\n",
              "  <tbody>\n",
              "    <tr>\n",
              "      <th>0</th>\n",
              "      <td>1</td>\n",
              "      <td>1</td>\n",
              "      <td>20.0072</td>\n",
              "      <td>0.7</td>\n",
              "      <td>100</td>\n",
              "      <td>491.19</td>\n",
              "      <td>606.67</td>\n",
              "      <td>1481.04</td>\n",
              "      <td>1227.81</td>\n",
              "      <td>9.35</td>\n",
              "      <td>...</td>\n",
              "      <td>8048.98</td>\n",
              "      <td>9.2229</td>\n",
              "      <td>0.02</td>\n",
              "      <td>362</td>\n",
              "      <td>2324</td>\n",
              "      <td>100.0</td>\n",
              "      <td>24.31</td>\n",
              "      <td>14.7007</td>\n",
              "      <td>230</td>\n",
              "      <td>229</td>\n",
              "    </tr>\n",
              "  </tbody>\n",
              "</table>\n",
              "<p>1 rows × 28 columns</p>\n",
              "</div>"
            ],
            "text/plain": [
              "   Unit  Time      Op1  Op2  Op3  Sensor1  Sensor2  Sensor3  Sensor4  Sensor5  \\\n",
              "0     1     1  20.0072  0.7  100   491.19   606.67  1481.04  1227.81     9.35   \n",
              "\n",
              "   ...  Sensor14  Sensor15  Sensor16  Sensor17  Sensor18  Sensor19  Sensor20  \\\n",
              "0  ...   8048.98    9.2229      0.02       362      2324     100.0     24.31   \n",
              "\n",
              "   Sensor21  MaxCycleID  RUL  \n",
              "0   14.7007         230  229  \n",
              "\n",
              "[1 rows x 28 columns]"
            ]
          },
          "metadata": {
            "tags": []
          },
          "execution_count": 10
        }
      ]
    },
    {
      "cell_type": "code",
      "metadata": {
        "id": "5su2GDApb5Ij"
      },
      "source": [
        ""
      ],
      "execution_count": null,
      "outputs": []
    },
    {
      "cell_type": "code",
      "metadata": {
        "id": "2XTNmN1hb5Ij"
      },
      "source": [
        ""
      ],
      "execution_count": null,
      "outputs": []
    },
    {
      "cell_type": "code",
      "metadata": {
        "id": "woM-N0S0b5Ik",
        "outputId": "01d77a14-9413-424b-d4af-9be340260255"
      },
      "source": [
        "# Remove maxCycleID from model; since that's a future information.\n",
        "X = train_df.drop(columns=[\"Unit\",\"MaxCycleID\", \"RUL\"])\n",
        "y = train_df[\"RUL\"]\n",
        "\n",
        "# Initiialize model\n",
        "linear_model = LinearRegression()\n",
        "\n",
        "# Fit model to data with RUL as target\n",
        "linear_model.fit(X, y)\n",
        "\n",
        "# Feature Importance information\n",
        "importance = linear_model.coef_\n",
        "\n",
        "# summarize feature importance\n",
        "for i,v in enumerate(importance):\n",
        "\tprint(X.columns[i], v)\n",
        " \n",
        "\n",
        "# plot feature importance\n",
        "plt.bar([x for x in range(len(importance))], importance)\n",
        "plt.show()\n"
      ],
      "execution_count": null,
      "outputs": [
        {
          "output_type": "stream",
          "text": [
            "Time -0.3787095846178559\n",
            "Op1 -48.188876397144156\n",
            "Op2 -17.01167007058314\n",
            "Op3 1196.006564044887\n",
            "Sensor1 402.78310544220494\n",
            "Sensor2 -9.890305481449445\n",
            "Sensor3 -0.8113986441892844\n",
            "Sensor4 -1.33069566264754\n",
            "Sensor5 -168.72223571528124\n",
            "Sensor6 -49.21165496574992\n",
            "Sensor7 0.12313495192207324\n",
            "Sensor8 -5.012246549678878\n",
            "Sensor9 -0.3719255072637405\n",
            "Sensor10 -51.88333169973506\n",
            "Sensor11 -72.33218735654344\n",
            "Sensor12 -1.2594640271443545\n",
            "Sensor13 -3.583364742478975\n",
            "Sensor14 0.29448578302931594\n",
            "Sensor15 -76.81360826662929\n",
            "Sensor16 827.2439911633453\n",
            "Sensor17 -4.047199766043562\n",
            "Sensor18 -147.81378513504697\n",
            "Sensor19 450.5954730038619\n",
            "Sensor20 9.717277747857095\n",
            "Sensor21 15.4245584685249\n"
          ],
          "name": "stdout"
        },
        {
          "output_type": "display_data",
          "data": {
            "image/png": "[encoded data removed]",
            "text/plain": [
              "<Figure size 432x288 with 1 Axes>"
            ]
          },
          "metadata": {
            "tags": [],
            "needs_background": "light"
          }
        }
      ]
    },
    {
      "cell_type": "code",
      "metadata": {
        "id": "bPBH0oHKb5Ik",
        "outputId": "a646de39-4c34-4540-d7c8-5bc76e59e209"
      },
      "source": [
        "# Linear Regression prediction\n",
        "linear_model.score(X,y)"
      ],
      "execution_count": null,
      "outputs": [
        {
          "output_type": "execute_result",
          "data": {
            "text/plain": [
              "0.6140550134192189"
            ]
          },
          "metadata": {
            "tags": []
          },
          "execution_count": 45
        }
      ]
    },
    {
      "cell_type": "code",
      "metadata": {
        "id": "uCk8o9hzb5Il",
        "outputId": "6f040f9d-aaaf-4da0-ca62-4ae7076ece2e"
      },
      "source": [
        "# Exract important features:\n",
        "important_features = []\n",
        "for i,v in enumerate(importance):\n",
        "    if v > 0:\n",
        "        important_features.append(X.columns[i])\n",
        "        \n",
        "print(\"Important Features: \", important_features)"
      ],
      "execution_count": null,
      "outputs": [
        {
          "output_type": "stream",
          "text": [
            "Important Features:  ['Op3', 'Sensor1', 'Sensor7', 'Sensor14', 'Sensor16', 'Sensor19', 'Sensor20', 'Sensor21']\n"
          ],
          "name": "stdout"
        }
      ]
    },
    {
      "cell_type": "code",
      "metadata": {
        "id": "mMpYoDY2b5Il",
        "outputId": "6135f16a-ed22-4515-f5be-6a484b1f5a0c"
      },
      "source": [
        "# Linear Regression score using only important features:\n",
        "imporant_model = LinearRegression().fit(X[important_features], y)\n",
        "important_predictions = imporant_model.predict(test_df[important_features])\n",
        "\n",
        "rmse = sqrt(mean_squared_error(test_df[\"RUL\"], important_predictions))\n",
        "r2 = r2_score(test_df[\"RUL\"], important_predictions)\n",
        "print(\"RMSE Benchmark using Important Features only with Linear Regression: \", rmse)\n",
        "print(\"R2 Score Benchmark using Important Features only with Linear Regression: \", r2)"
      ],
      "execution_count": null,
      "outputs": [
        {
          "output_type": "stream",
          "text": [
            "RMSE Benchmark using Important Features only with Linear Regression:  89.36924259934992\n",
            "R2 Score Benchmark using Important Features only with Linear Regression:  -0.13960569946754053\n"
          ],
          "name": "stdout"
        }
      ]
    },
    {
      "cell_type": "code",
      "metadata": {
        "id": "LJKes9CPb5Im"
      },
      "source": [
        ""
      ],
      "execution_count": null,
      "outputs": []
    },
    {
      "cell_type": "code",
      "metadata": {
        "id": "Gix7riXSb5Im"
      },
      "source": [
        ""
      ],
      "execution_count": null,
      "outputs": []
    },
    {
      "cell_type": "markdown",
      "metadata": {
        "id": "GKkyKbM4b5In"
      },
      "source": [
        "### Building Transformer Model"
      ]
    },
    {
      "cell_type": "code",
      "metadata": {
        "id": "hhYAnE5gb5In"
      },
      "source": [
        "max_len = 1000 # Reduced ,due to CUDA GPU Limitation"
      ],
      "execution_count": null,
      "outputs": []
    },
    {
      "cell_type": "code",
      "metadata": {
        "id": "y2ZsUU9tb5Io",
        "colab": {
          "base_uri": "https://localhost:8080/",
          "height": 231
        },
        "outputId": "d87eac26-7f42-47f8-f7a7-20592838d8dd"
      },
      "source": [
        "# Defining Positional Encdoing for Transformer\n",
        "class PositionalEncoding(nn.Module):\n",
        "    def __init__(self, d_model, dropout=0.1, max_len=max_len):\n",
        "        super(PositionalEncoding, self).__init__()\n",
        "        self.dropout = nn.Dropout(p=dropout)\n",
        "\n",
        "        pe = torch.zeros(max_len, d_model)\n",
        "        position = torch.arange(0, max_len, dtype=torch.float).unsqueeze(1)\n",
        "        div_term = torch.exp(torch.arange(0, d_model, 2).float() * (-math.log(10000.0) / d_model))\n",
        "        pe[:, 0::2] = torch.sin(position * div_term)\n",
        "        pe[:, 1::2] = torch.cos(position * div_term)\n",
        "        pe = pe.unsqueeze(0).transpose(0, 1)\n",
        "        self.register_buffer('pe', pe)\n",
        "\n",
        "    def forward(self, x):\n",
        "        x = x + self.pe[:x.size(0), :]\n",
        "        return self.dropout(x)\n",
        "\n",
        "\n",
        "# Building the Transformer Neural Network Class\n",
        "class TransformerModel(nn.Module):\n",
        "    def __init__(self, intoken, outtoken, hidden, nlayers=3, dropout=0.1):\n",
        "        super(TransformerModel, self).__init__()\n",
        "        nhead = hidden // 64\n",
        "\n",
        "        self.encoder = nn.Embedding(intoken, hidden)\n",
        "        self.pos_encoder = PositionalEncoding(hidden, dropout)\n",
        "\n",
        "        self.decoder = nn.Embedding(outtoken, hidden)\n",
        "        self.pos_decoder = PositionalEncoding(hidden, dropout)\n",
        "\n",
        "        self.inscale = math.sqrt(intoken)\n",
        "        self.outscale = math.sqrt(outtoken)\n",
        "\n",
        "        self.transformer = nn.Transformer(d_model=hidden, nhead=nhead, num_encoder_layers=nlayers,\n",
        "                                          num_decoder_layers=nlayers, dim_feedforward=hidden, dropout=dropout)\n",
        "        self.fc_out = nn.Linear(hidden, outtoken)\n",
        "\n",
        "        self.src_mask = None\n",
        "        self.trg_mask = None\n",
        "        self.memory_mask = None\n",
        "\n",
        "    def generate_square_subsequent_mask(self, sz):\n",
        "        mask = torch.triu(torch.ones(sz, sz), 1)\n",
        "        mask = mask.masked_fill(mask == 1, float('-inf'))\n",
        "        return mask\n",
        "\n",
        "    def make_len_mask(self, inp):\n",
        "        return (inp == 0).transpose(0, 1)\n",
        "\n",
        "    def forward(self, src, trg):\n",
        "        if self.trg_mask is None or self.trg_mask.size(0) != len(trg):\n",
        "            self.trg_mask = self.generate_square_subsequent_mask(len(trg)).to(trg.device)\n",
        "\n",
        "        src_pad_mask = self.make_len_mask(src)\n",
        "        trg_pad_mask = self.make_len_mask(trg)\n",
        "\n",
        "        src = self.encoder(src)\n",
        "        src = self.pos_encoder(src)\n",
        "\n",
        "        trg = self.decoder(trg)\n",
        "        trg = self.pos_decoder(trg)\n",
        "        output = self.transformer(src, trg, tgt_mask=self.trg_mask)\n",
        "        # output = self.transformer(src, trg, src_mask=self.src_mask, tgt_mask=self.trg_mask,\n",
        "        #                           memory_mask=self.memory_mask,\n",
        "        #                           src_key_padding_mask=src_pad_mask, tgt_key_padding_mask=trg_pad_mask,\n",
        "        #                           memory_key_padding_mask=src_pad_mask)\n",
        "        output = self.fc_out(output)\n",
        "\n",
        "        return output"
      ],
      "execution_count": null,
      "outputs": [
        {
          "output_type": "error",
          "ename": "NameError",
          "evalue": "ignored",
          "traceback": [
            "\u001b[0;31m---------------------------------------------------------------------------\u001b[0m",
            "\u001b[0;31mNameError\u001b[0m                                 Traceback (most recent call last)",
            "\u001b[0;32m<ipython-input-2-1f10d34abf3e>\u001b[0m in \u001b[0;36m<module>\u001b[0;34m()\u001b[0m\n\u001b[1;32m      1\u001b[0m \u001b[0;31m# Defining Positional Encdoing for Transformer\u001b[0m\u001b[0;34m\u001b[0m\u001b[0;34m\u001b[0m\u001b[0;34m\u001b[0m\u001b[0m\n\u001b[0;32m----> 2\u001b[0;31m \u001b[0;32mclass\u001b[0m \u001b[0mPositionalEncoding\u001b[0m\u001b[0;34m(\u001b[0m\u001b[0mnn\u001b[0m\u001b[0;34m.\u001b[0m\u001b[0mModule\u001b[0m\u001b[0;34m)\u001b[0m\u001b[0;34m:\u001b[0m\u001b[0;34m\u001b[0m\u001b[0;34m\u001b[0m\u001b[0m\n\u001b[0m\u001b[1;32m      3\u001b[0m     \u001b[0;32mdef\u001b[0m \u001b[0m__init__\u001b[0m\u001b[0;34m(\u001b[0m\u001b[0mself\u001b[0m\u001b[0;34m,\u001b[0m \u001b[0md_model\u001b[0m\u001b[0;34m,\u001b[0m \u001b[0mdropout\u001b[0m\u001b[0;34m=\u001b[0m\u001b[0;36m0.1\u001b[0m\u001b[0;34m,\u001b[0m \u001b[0mmax_len\u001b[0m\u001b[0;34m=\u001b[0m\u001b[0mmax_len\u001b[0m\u001b[0;34m)\u001b[0m\u001b[0;34m:\u001b[0m\u001b[0;34m\u001b[0m\u001b[0;34m\u001b[0m\u001b[0m\n\u001b[1;32m      4\u001b[0m         \u001b[0msuper\u001b[0m\u001b[0;34m(\u001b[0m\u001b[0mPositionalEncoding\u001b[0m\u001b[0;34m,\u001b[0m \u001b[0mself\u001b[0m\u001b[0;34m)\u001b[0m\u001b[0;34m.\u001b[0m\u001b[0m__init__\u001b[0m\u001b[0;34m(\u001b[0m\u001b[0;34m)\u001b[0m\u001b[0;34m\u001b[0m\u001b[0;34m\u001b[0m\u001b[0m\n\u001b[1;32m      5\u001b[0m         \u001b[0mself\u001b[0m\u001b[0;34m.\u001b[0m\u001b[0mdropout\u001b[0m \u001b[0;34m=\u001b[0m \u001b[0mnn\u001b[0m\u001b[0;34m.\u001b[0m\u001b[0mDropout\u001b[0m\u001b[0;34m(\u001b[0m\u001b[0mp\u001b[0m\u001b[0;34m=\u001b[0m\u001b[0mdropout\u001b[0m\u001b[0;34m)\u001b[0m\u001b[0;34m\u001b[0m\u001b[0;34m\u001b[0m\u001b[0m\n",
            "\u001b[0;31mNameError\u001b[0m: name 'nn' is not defined"
          ]
        }
      ]
    },
    {
      "cell_type": "code",
      "metadata": {
        "id": "VYHpIVb6b5Ip"
      },
      "source": [
        "# Class for Formatting Dataset input to Transformer class\n",
        "class NumberLoader(Dataset):\n",
        "    def __init__(self, x, y, inp_len=3, out_len=3):\n",
        "        if len(x) != len(y):\n",
        "            raise ValueError(\"len(x) != len(y)\")\n",
        "        self.x = [[x[i + j] for j in range(inp_len)] for i in range(len(x) - inp_len + 1)]\n",
        "        self.y = [[y[i + j] for j in range(out_len)] for i in range(len(y) - out_len + 1)]\n",
        "\n",
        "    def __getitem__(self, index):\n",
        "        return LongTensor(self.x[index]), LongTensor([0] + self.y[index])\n",
        "\n",
        "    def __len__(self):\n",
        "        return len(self.x)\n",
        "    \n",
        "# For training the model on every epoch\n",
        "def train(model, criterion, optimizer, loader):\n",
        "    model.train()\n",
        "    epoch_loss = 0\n",
        "    for i, batch in enumerate(loader):\n",
        "        src, tgt = batch\n",
        "        src, tgt = src.transpose(1, 0).cuda(), tgt.transpose(1, 0).cuda()\n",
        "        optimizer.zero_grad()\n",
        "        output = model(src, tgt[:-1, :])\n",
        "        n = output.shape[-1]\n",
        "        loss = criterion(output.reshape(-1, n), tgt[1:, :].reshape(-1))\n",
        "        loss.backward()\n",
        "        nn.utils.clip_grad_norm_(model.parameters(), 1.0)\n",
        "        optimizer.step()\n",
        "        epoch_loss += loss.item()\n",
        "    return epoch_loss / len(loader)\n",
        "\n",
        "\n",
        "# FOr validating trained model\n",
        "def validation(model, criterion, loader):\n",
        "    model.eval()\n",
        "    epoch_loss = 0\n",
        "    with no_grad():\n",
        "        for i, batch in enumerate(loader):\n",
        "            src, tgt = batch\n",
        "            src, tgt = src.transpose(1, 0).cuda(), tgt.transpose(1, 0).cuda()\n",
        "            output = model(src, tgt[:-1, :])\n",
        "            n = output.shape[-1]\n",
        "            loss = criterion(output.reshape(-1, n), tgt[1:, :].reshape(-1))\n",
        "            epoch_loss += loss.item()\n",
        "    return epoch_loss / len(loader)"
      ],
      "execution_count": null,
      "outputs": []
    },
    {
      "cell_type": "code",
      "metadata": {
        "id": "-EEgPzgbb5Iw"
      },
      "source": [
        ""
      ],
      "execution_count": null,
      "outputs": []
    },
    {
      "cell_type": "code",
      "metadata": {
        "id": "06AzRhlgb5I5"
      },
      "source": [
        "# Function for training the model.\n",
        "def main(train_df, column_name, target_column, model_name=None, hidden=64, nlayers=1, epochs = 1):\n",
        "    voc_size = 100000\n",
        "    inp = train_df[column_name].values\n",
        "    tgt = train_df[target_column].values\n",
        "    \n",
        "    batch_size = 128\n",
        "    #epochs = 1\n",
        "    dataset = NumberLoader(inp, tgt)\n",
        "    train_len = int(len(dataset) * 0.9)\n",
        "    val_len = len(dataset) - train_len\n",
        "    train_set, val_set = random_split(dataset, [train_len, val_len])\n",
        "    train_loader = DataLoader(train_set, batch_size=batch_size, shuffle=True, num_workers=1)\n",
        "    val_loader = DataLoader(val_set, batch_size=batch_size, shuffle=True, num_workers=1)\n",
        "    model = TransformerModel(voc_size, voc_size, hidden=hidden, nlayers=nlayers)\n",
        "    if model_name is not None:\n",
        "        model.load_state_dict(load(model_name))\n",
        "    model = model.cuda()\n",
        "    # optimizer = optim.SGD(model.parameters(), lr=0.5)\n",
        "    optimizer = optim.Adam(model.parameters())\n",
        "    # scheduler = optim.lr_scheduler.StepLR(optimizer, step_size=10, gamma=0.5)\n",
        "    criterion = nn.CrossEntropyLoss()\n",
        "    # best_loss = 100\n",
        "    for i in range(epochs):\n",
        "        epoch_loss = train(model, criterion, optimizer, train_loader)\n",
        "        epoch_loss_val = validation(model, criterion, val_loader)\n",
        "        # scheduler.step()\n",
        "        print(\"epoch: {} train loss: {}\".format(i, epoch_loss))\n",
        "        print(\"epoch: {} val loss: {}\".format(i, epoch_loss_val))\n",
        "#         if epoch_loss_val < best_loss:\n",
        "#             best_loss = epoch_loss_val\n",
        "#             model_name = \"model/model_{0:.5f}.pt\".format(epoch_loss_val)\n",
        "#             save(model.state_dict(), model_name)\n",
        "    return model#model_name"
      ],
      "execution_count": null,
      "outputs": []
    },
    {
      "cell_type": "code",
      "metadata": {
        "id": "8CRPBMLIb5I7"
      },
      "source": [
        ""
      ],
      "execution_count": null,
      "outputs": []
    },
    {
      "cell_type": "code",
      "metadata": {
        "id": "L5ENuiaPb5JB"
      },
      "source": [
        "def run_test(model, val):\n",
        "    model = model.cuda()\n",
        "    model.eval()\n",
        "    \n",
        "    src = LongTensor(val).unsqueeze(1).cuda()\n",
        "    pred = [0]\n",
        "    for j in range(len(val)):\n",
        "        inp = LongTensor(pred).unsqueeze(1).cuda()\n",
        "        output = model(src, inp)\n",
        "        out_num = output.argmax(2)[-1].item()\n",
        "        pred.append(out_num)\n",
        "\n",
        "    return pred[1:]\n",
        "    "
      ],
      "execution_count": null,
      "outputs": []
    },
    {
      "cell_type": "code",
      "metadata": {
        "id": "Ly8RB-c3b5JC"
      },
      "source": [
        "# Selected columns for train:\n",
        "x_columns = important_features\n",
        "print(\"Using only important features for training: \", x_columns)"
      ],
      "execution_count": null,
      "outputs": []
    },
    {
      "cell_type": "code",
      "metadata": {
        "id": "_fCCmIdXb5JF"
      },
      "source": [
        ""
      ],
      "execution_count": null,
      "outputs": []
    },
    {
      "cell_type": "code",
      "metadata": {
        "id": "_ukNLR03b5JF"
      },
      "source": [
        "# def batch_models(x_columns, train_df, test_df, epochs=1):\n",
        "#     # Batch execution of training for every column.\n",
        "#     batch_dict = {}\n",
        "#     for column_name in x_columns:\n",
        "#         print(\"Training: \", column_name)\n",
        "#         model = main(train_df, column_name, \"RUL\", epochs=epochs)\n"
      ],
      "execution_count": null,
      "outputs": []
    },
    {
      "cell_type": "code",
      "metadata": {
        "id": "mqkBhw9kb5JG"
      },
      "source": [
        "def batch_execution(x_columns, train_df, test_df, epochs=1):\n",
        "    # Batch execution of training/testing for every column.\n",
        "    batch_dict = {}\n",
        "    for column_name in x_columns:\n",
        "        print(\"Training: \", column_name)\n",
        "        model = main(train_df, column_name, \"RUL\", epochs=epochs)\n",
        "\n",
        "        predictions = []\n",
        "        # Predict model on test\n",
        "        val = test_df[column_name][:max_len] #Predictions should be done in batch based on max_len due to limitations on GPU\n",
        "        pred = run_test(model, val)\n",
        "        predictions.extend(pred)\n",
        "\n",
        "        # Predicting in batches due to CUDA GPU Limitation; (max_len has to be adjusted for this.)\n",
        "        last_batch = max_len\n",
        "        while True:\n",
        "            if last_batch < len(test_df[column_name]): #If any more predictions left\n",
        "                pred = run_test(model, test_df[column_name][last_batch : last_batch+max_len].tolist())\n",
        "                predictions.extend(pred)\n",
        "            else:\n",
        "                break\n",
        "\n",
        "            print(last_batch, \"last_batch\")\n",
        "\n",
        "            last_batch += max_len\n",
        "\n",
        "        batch_dict[column_name] = predictions\n",
        "\n",
        "    row_length = len(batch_dict[column_name]) #Get length of data rows\n",
        "\n",
        "    # Aggregate batch predictions for every row in batch.\n",
        "    target_predictions = []\n",
        "    for row in range(row_length):\n",
        "        row_values = []\n",
        "        for column in batch_dict:\n",
        "            #columns_predictions.append(batch_result[column])\n",
        "            value = batch_dict[column][row]\n",
        "            row_values.append(value)\n",
        "\n",
        "        pred = sum(row_values)/len(row_values)\n",
        "        target_predictions.append(pred)\n",
        "\n",
        "\n",
        "\n",
        "\n",
        "    return target_predictions\n"
      ],
      "execution_count": null,
      "outputs": []
    },
    {
      "cell_type": "code",
      "metadata": {
        "id": "VDn4dwghb5JH"
      },
      "source": [
        "def evaluate_predictions(predictions):    \n",
        "    rmse = sqrt(mean_squared_error(test_df[\"RUL\"], predictions))\n",
        "    r2 = r2_score(test_df[\"RUL\"], target_predictions)\n",
        "    \n",
        "    \n",
        "    print(\"RMSE = \", rmse)\n",
        "    print(\"R2 = \", r2_score)"
      ],
      "execution_count": null,
      "outputs": []
    },
    {
      "cell_type": "code",
      "metadata": {
        "id": "mnCHECPwb5J3"
      },
      "source": [
        "predictions = batch_execution(x_columns, train_df, test_df, epochs=2)"
      ],
      "execution_count": null,
      "outputs": []
    },
    {
      "cell_type": "code",
      "metadata": {
        "id": "u8vuEPyMb5J4"
      },
      "source": [
        "evaluate_predictions(target_predictions)"
      ],
      "execution_count": null,
      "outputs": []
    },
    {
      "cell_type": "code",
      "metadata": {
        "id": "qURxklzVb5J5",
        "colab": {
          "base_uri": "https://localhost:8080/"
        },
        "outputId": "2e593ad9-10e6-4d64-df81-8493b279b2f2"
      },
      "source": [
        "np.array([[0,0,0,0],[1,1,1,1],[1,2,3,4], [3,3,3,3]]).shape[-1]"
      ],
      "execution_count": null,
      "outputs": [
        {
          "output_type": "execute_result",
          "data": {
            "text/plain": [
              "4"
            ]
          },
          "metadata": {
            "tags": []
          },
          "execution_count": 11
        }
      ]
    },
    {
      "cell_type": "code",
      "metadata": {
        "id": "jdLAodHr_E-H"
      },
      "source": [
        ""
      ],
      "execution_count": null,
      "outputs": []
    }
  ]
}